{
 "cells": [
  {
   "cell_type": "code",
   "execution_count": 1,
   "metadata": {
    "collapsed": false
   },
   "outputs": [
    {
     "name": "stdout",
     "output_type": "stream",
     "text": [
      "(u'2016', u'BCBS', u'8860004980000000', u'Colorectal Cancer Screening', u'CPT', u'45378', None, None, u'2013-07-22 00:00:00', datetime.datetime(2017, 6, 27, 18, 11, 3), u'#20170627174536#_#1031#_QMP_Suppl.txt.gpg', u'0')\n",
      "(u'2016', u'BCBS', u'8860004980000000', u'Colorectal Cancer Screening', u'ICD10', u'4550', None, None, u'2013-07-22 00:00:00', datetime.datetime(2017, 6, 27, 18, 11), u'#20170627174536#_#1031#_QMP_Suppl.txt.gpg', u'0')\n",
      "(u'2017', u'BCBS', u'8860004980000000', u'Colorectal Cancer Screening', u'ICD10', u'4550', None, None, u'2013-07-22 00:00:00', datetime.datetime(2017, 7, 19, 13, 22, 29), u'#20170719125418#_#1031#_QMP_Suppl.txt.pgp', u'0')\n",
      "(u'2016', u'BCBS', u'8860004980000000', u'Colorectal Cancer Screening', u'ICD10', u'5693', None, None, u'2013-07-22 00:00:00', datetime.datetime(2017, 6, 27, 18, 10, 58), u'#20170627174536#_#1031#_QMP_Suppl.txt.gpg', u'0')\n",
      "(u'2017', u'BCBS', u'8860004980000000', u'Colorectal Cancer Screening', u'ICD10', u'5693', None, None, u'2013-07-22 00:00:00', datetime.datetime(2017, 7, 19, 13, 22, 27), u'#20170719125418#_#1031#_QMP_Suppl.txt.pgp', u'0')\n",
      "(u'2017', u'BCBS', u'8860004980000000', u'Colorectal Cancer Screening', u'CPT', u'S4523', None, None, u'2013-07-22 00:00:00', datetime.datetime(2017, 7, 19, 13, 22, 31), u'#20170719125418#_#1031#_QMP_Suppl.txt.pgp', u'0')\n",
      "(u'2017', u'BCBS', u'8860004980000000', u'Cervical Cancer Screening', u'REV', u'311', u' ', u' ', u'2015-08-24 00:00:00', datetime.datetime(2017, 7, 19, 13, 22, 25), u'#20170719125418#_#1031#_QMP_Suppl.txt.pgp', u'0')\n",
      "(u'2016', u'BCBS', u'8860004980000000', u'Cervical Cancer Screening', u'ICD-10', u'78900', u' ', u' ', u'2015-08-24 00:00:00', datetime.datetime(2017, 6, 27, 18, 10, 50), u'#20170627174536#_#1031#_QMP_Suppl.txt.gpg', u'0')\n",
      "(u'2017', u'BCBS', u'8860004980000000', u'Cervical Cancer Screening', u'ICD-10', u'78900', u' ', u' ', u'2015-08-24 00:00:00', datetime.datetime(2017, 7, 19, 13, 22, 18), u'#20170719125418#_#1031#_QMP_Suppl.txt.pgp', u'0')\n",
      "(u'2017', u'BCBS', u'8860004980000000', u'Cervical Cancer Screening', u'CPT', u'G0145', u' ', u' ', u'2015-08-24 00:00:00', datetime.datetime(2017, 7, 19, 13, 22, 22), u'#20170719125418#_#1031#_QMP_Suppl.txt.pgp', u'0')\n"
     ]
    }
   ],
   "source": [
    "from sqlalchemy import *\n",
    "\n",
    "import urllib\n",
    "params = urllib.quote_plus(\"DRIVER={SQL Server};SERVER=PRESTGSQLPRD01;DATABASE=BIQMP_PRESTAGING_PRD;Trusted_Connection=TRUE\")\n",
    "\n",
    "engine = create_engine(\"mssql+pyodbc:///?odbc_connect=%s\" % params)\n",
    "\n",
    "\n",
    "\n",
    "with engine.connect() as con:\n",
    "    rs=con.execute('select top 10 * from clinical')\n",
    "\n",
    "    for row in rs:\n",
    "        print row"
   ]
  },
  {
   "cell_type": "code",
   "execution_count": null,
   "metadata": {
    "collapsed": true
   },
   "outputs": [],
   "source": []
  }
 ],
 "metadata": {
  "anaconda-cloud": {},
  "kernelspec": {
   "display_name": "Python [Root]",
   "language": "python",
   "name": "Python [Root]"
  },
  "language_info": {
   "codemirror_mode": {
    "name": "ipython",
    "version": 2
   },
   "file_extension": ".py",
   "mimetype": "text/x-python",
   "name": "python",
   "nbconvert_exporter": "python",
   "pygments_lexer": "ipython2",
   "version": "2.7.12"
  }
 },
 "nbformat": 4,
 "nbformat_minor": 0
}
